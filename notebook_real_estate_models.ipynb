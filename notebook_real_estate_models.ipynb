{
 "cells": [
  {
   "cell_type": "code",
   "execution_count": 2,
   "id": "56bec21c",
   "metadata": {},
   "outputs": [],
   "source": [
    "#Importation des librairies \n",
    "import pandas as pd\n",
    "import matplotlib.pyplot as plt \n",
    "%matplotlib inline \n",
    "import matplotlib\n",
    "matplotlib.rcParams[\"figure.figsize\"] =(20,10)\n",
    "import seaborn as sns\n",
    "import os \n",
    "import glob \n",
    "import numpy as np\n",
    "from sklearn.preprocessing import LabelEncoder\n",
    "plt.style.use('fivethirtyeight')"
   ]
  },
  {
   "cell_type": "code",
   "execution_count": 3,
   "id": "50de52cb",
   "metadata": {},
   "outputs": [
    {
     "data": {
      "text/html": [
       "<div>\n",
       "<style scoped>\n",
       "    .dataframe tbody tr th:only-of-type {\n",
       "        vertical-align: middle;\n",
       "    }\n",
       "\n",
       "    .dataframe tbody tr th {\n",
       "        vertical-align: top;\n",
       "    }\n",
       "\n",
       "    .dataframe thead th {\n",
       "        text-align: right;\n",
       "    }\n",
       "</style>\n",
       "<table border=\"1\" class=\"dataframe\">\n",
       "  <thead>\n",
       "    <tr style=\"text-align: right;\">\n",
       "      <th></th>\n",
       "      <th>id_mutation</th>\n",
       "      <th>date_mutation</th>\n",
       "      <th>numero_disposition</th>\n",
       "      <th>nature_mutation</th>\n",
       "      <th>valeur_fonciere</th>\n",
       "      <th>adresse_numero</th>\n",
       "      <th>adresse_suffixe</th>\n",
       "      <th>adresse_nom_voie</th>\n",
       "      <th>adresse_code_voie</th>\n",
       "      <th>code_postal</th>\n",
       "      <th>...</th>\n",
       "      <th>surface_reelle_bati</th>\n",
       "      <th>nombre_pieces_principales</th>\n",
       "      <th>code_nature_culture</th>\n",
       "      <th>nature_culture</th>\n",
       "      <th>code_nature_culture_speciale</th>\n",
       "      <th>nature_culture_speciale</th>\n",
       "      <th>surface_terrain</th>\n",
       "      <th>longitude</th>\n",
       "      <th>latitude</th>\n",
       "      <th>section_prefixe</th>\n",
       "    </tr>\n",
       "  </thead>\n",
       "  <tbody>\n",
       "    <tr>\n",
       "      <th>0</th>\n",
       "      <td>2022-360375</td>\n",
       "      <td>2022-04-21</td>\n",
       "      <td>1</td>\n",
       "      <td>Vente</td>\n",
       "      <td>260000.0</td>\n",
       "      <td>26.0</td>\n",
       "      <td>None</td>\n",
       "      <td>RUE DELILLE</td>\n",
       "      <td>582</td>\n",
       "      <td>76800</td>\n",
       "      <td>...</td>\n",
       "      <td>129.0</td>\n",
       "      <td>4.0</td>\n",
       "      <td>S</td>\n",
       "      <td>sols</td>\n",
       "      <td>None</td>\n",
       "      <td>None</td>\n",
       "      <td>351.0</td>\n",
       "      <td>1.071855</td>\n",
       "      <td>49.401886</td>\n",
       "      <td>000AB</td>\n",
       "    </tr>\n",
       "    <tr>\n",
       "      <th>1</th>\n",
       "      <td>2022-360375</td>\n",
       "      <td>2022-04-21</td>\n",
       "      <td>1</td>\n",
       "      <td>Vente</td>\n",
       "      <td>260000.0</td>\n",
       "      <td>26.0</td>\n",
       "      <td>None</td>\n",
       "      <td>RUE DELILLE</td>\n",
       "      <td>582</td>\n",
       "      <td>76800</td>\n",
       "      <td>...</td>\n",
       "      <td>NaN</td>\n",
       "      <td>0.0</td>\n",
       "      <td>S</td>\n",
       "      <td>sols</td>\n",
       "      <td>None</td>\n",
       "      <td>None</td>\n",
       "      <td>351.0</td>\n",
       "      <td>1.071855</td>\n",
       "      <td>49.401886</td>\n",
       "      <td>000AB</td>\n",
       "    </tr>\n",
       "    <tr>\n",
       "      <th>2</th>\n",
       "      <td>2021-1180016</td>\n",
       "      <td>2021-05-10</td>\n",
       "      <td>1</td>\n",
       "      <td>Vente</td>\n",
       "      <td>160000.0</td>\n",
       "      <td>13.0</td>\n",
       "      <td>None</td>\n",
       "      <td>RUE ALFRED DE MUSSET</td>\n",
       "      <td>40</td>\n",
       "      <td>76800</td>\n",
       "      <td>...</td>\n",
       "      <td>64.0</td>\n",
       "      <td>4.0</td>\n",
       "      <td>S</td>\n",
       "      <td>sols</td>\n",
       "      <td>None</td>\n",
       "      <td>None</td>\n",
       "      <td>452.0</td>\n",
       "      <td>1.070963</td>\n",
       "      <td>49.402764</td>\n",
       "      <td>000AB</td>\n",
       "    </tr>\n",
       "    <tr>\n",
       "      <th>3</th>\n",
       "      <td>2021-1177880</td>\n",
       "      <td>2021-01-14</td>\n",
       "      <td>1</td>\n",
       "      <td>Vente</td>\n",
       "      <td>174000.0</td>\n",
       "      <td>21.0</td>\n",
       "      <td>None</td>\n",
       "      <td>RUE PAUL VERLAINE</td>\n",
       "      <td>1920</td>\n",
       "      <td>76800</td>\n",
       "      <td>...</td>\n",
       "      <td>64.0</td>\n",
       "      <td>4.0</td>\n",
       "      <td>S</td>\n",
       "      <td>sols</td>\n",
       "      <td>None</td>\n",
       "      <td>None</td>\n",
       "      <td>498.0</td>\n",
       "      <td>1.070475</td>\n",
       "      <td>49.403622</td>\n",
       "      <td>000AB</td>\n",
       "    </tr>\n",
       "    <tr>\n",
       "      <th>4</th>\n",
       "      <td>2021-1177880</td>\n",
       "      <td>2021-01-14</td>\n",
       "      <td>1</td>\n",
       "      <td>Vente</td>\n",
       "      <td>174000.0</td>\n",
       "      <td>21.0</td>\n",
       "      <td>None</td>\n",
       "      <td>RUE PAUL VERLAINE</td>\n",
       "      <td>1920</td>\n",
       "      <td>76800</td>\n",
       "      <td>...</td>\n",
       "      <td>NaN</td>\n",
       "      <td>0.0</td>\n",
       "      <td>S</td>\n",
       "      <td>sols</td>\n",
       "      <td>None</td>\n",
       "      <td>None</td>\n",
       "      <td>498.0</td>\n",
       "      <td>1.070475</td>\n",
       "      <td>49.403622</td>\n",
       "      <td>000AB</td>\n",
       "    </tr>\n",
       "  </tbody>\n",
       "</table>\n",
       "<p>5 rows × 41 columns</p>\n",
       "</div>"
      ],
      "text/plain": [
       "    id_mutation date_mutation  numero_disposition nature_mutation  \\\n",
       "0   2022-360375    2022-04-21                   1           Vente   \n",
       "1   2022-360375    2022-04-21                   1           Vente   \n",
       "2  2021-1180016    2021-05-10                   1           Vente   \n",
       "3  2021-1177880    2021-01-14                   1           Vente   \n",
       "4  2021-1177880    2021-01-14                   1           Vente   \n",
       "\n",
       "   valeur_fonciere  adresse_numero adresse_suffixe      adresse_nom_voie  \\\n",
       "0         260000.0            26.0            None           RUE DELILLE   \n",
       "1         260000.0            26.0            None           RUE DELILLE   \n",
       "2         160000.0            13.0            None  RUE ALFRED DE MUSSET   \n",
       "3         174000.0            21.0            None     RUE PAUL VERLAINE   \n",
       "4         174000.0            21.0            None     RUE PAUL VERLAINE   \n",
       "\n",
       "  adresse_code_voie code_postal  ...  surface_reelle_bati  \\\n",
       "0               582       76800  ...                129.0   \n",
       "1               582       76800  ...                  NaN   \n",
       "2                40       76800  ...                 64.0   \n",
       "3              1920       76800  ...                 64.0   \n",
       "4              1920       76800  ...                  NaN   \n",
       "\n",
       "  nombre_pieces_principales  code_nature_culture nature_culture  \\\n",
       "0                       4.0                    S           sols   \n",
       "1                       0.0                    S           sols   \n",
       "2                       4.0                    S           sols   \n",
       "3                       4.0                    S           sols   \n",
       "4                       0.0                    S           sols   \n",
       "\n",
       "  code_nature_culture_speciale nature_culture_speciale surface_terrain  \\\n",
       "0                         None                    None           351.0   \n",
       "1                         None                    None           351.0   \n",
       "2                         None                    None           452.0   \n",
       "3                         None                    None           498.0   \n",
       "4                         None                    None           498.0   \n",
       "\n",
       "  longitude   latitude section_prefixe  \n",
       "0  1.071855  49.401886           000AB  \n",
       "1  1.071855  49.401886           000AB  \n",
       "2  1.070963  49.402764           000AB  \n",
       "3  1.070475  49.403622           000AB  \n",
       "4  1.070475  49.403622           000AB  \n",
       "\n",
       "[5 rows x 41 columns]"
      ]
     },
     "execution_count": 3,
     "metadata": {},
     "output_type": "execute_result"
    }
   ],
   "source": [
    "os.chdir(\"C:/Users/Saloua DOUMI/OneDrive/Documents/Mes études/MASTER_SD1/S1/Gestion_projet/app_estimateur/apprentissage/transactions\")\n",
    "\n",
    "e = 'csv'\n",
    "archives = [i for i in glob.glob('*.{}'.format(e))]\n",
    "\n",
    "df = pd.concat([pd.read_csv(f, sep=\";\") for f in archives])\n",
    "#Sauvergade des données regroupées sous format csv \n",
    "df.to_csv(\"../donnees_regroupees.csv\", index=False, encoding=\"utf-8-sig\")\n",
    "#affichage des données \n",
    "df.head()\n"
   ]
  },
  {
   "cell_type": "code",
   "execution_count": 5,
   "id": "7f866618",
   "metadata": {},
   "outputs": [
    {
     "data": {
      "text/plain": [
       "(2972, 41)"
      ]
     },
     "execution_count": 5,
     "metadata": {},
     "output_type": "execute_result"
    }
   ],
   "source": [
    "#taille du dataframe\n",
    "df.shape"
   ]
  },
  {
   "cell_type": "markdown",
   "id": "10b8a1a1",
   "metadata": {},
   "source": [
    "# Nettoyage  des données"
   ]
  },
  {
   "cell_type": "code",
   "execution_count": 6,
   "id": "8b63a815",
   "metadata": {},
   "outputs": [
    {
     "data": {
      "text/html": [
       "<div>\n",
       "<style scoped>\n",
       "    .dataframe tbody tr th:only-of-type {\n",
       "        vertical-align: middle;\n",
       "    }\n",
       "\n",
       "    .dataframe tbody tr th {\n",
       "        vertical-align: top;\n",
       "    }\n",
       "\n",
       "    .dataframe thead th {\n",
       "        text-align: right;\n",
       "    }\n",
       "</style>\n",
       "<table border=\"1\" class=\"dataframe\">\n",
       "  <thead>\n",
       "    <tr style=\"text-align: right;\">\n",
       "      <th></th>\n",
       "      <th>id_mutation</th>\n",
       "      <th>valeur_fonciere</th>\n",
       "      <th>code_type_local</th>\n",
       "      <th>surface_reelle_bati</th>\n",
       "      <th>nombre_pieces_principales</th>\n",
       "      <th>surface_terrain</th>\n",
       "      <th>longitude</th>\n",
       "      <th>latitude</th>\n",
       "    </tr>\n",
       "  </thead>\n",
       "  <tbody>\n",
       "    <tr>\n",
       "      <th>0</th>\n",
       "      <td>2022-360375</td>\n",
       "      <td>260000.0</td>\n",
       "      <td>1</td>\n",
       "      <td>129.0</td>\n",
       "      <td>4.0</td>\n",
       "      <td>351.0</td>\n",
       "      <td>1.071855</td>\n",
       "      <td>49.401886</td>\n",
       "    </tr>\n",
       "    <tr>\n",
       "      <th>1</th>\n",
       "      <td>2022-360375</td>\n",
       "      <td>260000.0</td>\n",
       "      <td>3</td>\n",
       "      <td>NaN</td>\n",
       "      <td>0.0</td>\n",
       "      <td>351.0</td>\n",
       "      <td>1.071855</td>\n",
       "      <td>49.401886</td>\n",
       "    </tr>\n",
       "    <tr>\n",
       "      <th>2</th>\n",
       "      <td>2021-1180016</td>\n",
       "      <td>160000.0</td>\n",
       "      <td>1</td>\n",
       "      <td>64.0</td>\n",
       "      <td>4.0</td>\n",
       "      <td>452.0</td>\n",
       "      <td>1.070963</td>\n",
       "      <td>49.402764</td>\n",
       "    </tr>\n",
       "    <tr>\n",
       "      <th>3</th>\n",
       "      <td>2021-1177880</td>\n",
       "      <td>174000.0</td>\n",
       "      <td>1</td>\n",
       "      <td>64.0</td>\n",
       "      <td>4.0</td>\n",
       "      <td>498.0</td>\n",
       "      <td>1.070475</td>\n",
       "      <td>49.403622</td>\n",
       "    </tr>\n",
       "    <tr>\n",
       "      <th>4</th>\n",
       "      <td>2021-1177880</td>\n",
       "      <td>174000.0</td>\n",
       "      <td>3</td>\n",
       "      <td>NaN</td>\n",
       "      <td>0.0</td>\n",
       "      <td>498.0</td>\n",
       "      <td>1.070475</td>\n",
       "      <td>49.403622</td>\n",
       "    </tr>\n",
       "  </tbody>\n",
       "</table>\n",
       "</div>"
      ],
      "text/plain": [
       "    id_mutation  valeur_fonciere code_type_local  surface_reelle_bati  \\\n",
       "0   2022-360375         260000.0               1                129.0   \n",
       "1   2022-360375         260000.0               3                  NaN   \n",
       "2  2021-1180016         160000.0               1                 64.0   \n",
       "3  2021-1177880         174000.0               1                 64.0   \n",
       "4  2021-1177880         174000.0               3                  NaN   \n",
       "\n",
       "   nombre_pieces_principales  surface_terrain  longitude   latitude  \n",
       "0                        4.0            351.0   1.071855  49.401886  \n",
       "1                        0.0            351.0   1.071855  49.401886  \n",
       "2                        4.0            452.0   1.070963  49.402764  \n",
       "3                        4.0            498.0   1.070475  49.403622  \n",
       "4                        0.0            498.0   1.070475  49.403622  "
      ]
     },
     "execution_count": 6,
     "metadata": {},
     "output_type": "execute_result"
    }
   ],
   "source": [
    "#la suppresion des collonnes inutiles \n",
    "df_clean = df.drop(['date_mutation', 'numero_disposition', 'adresse_numero','adresse_suffixe','adresse_nom_voie', 'code_postal', 'code_commune', \n",
    " 'nom_commune', 'code_departement', 'ancien_code_commune', 'ancien_nom_commune','ancien_id_parcelle', 'numero_volume', 'lot1_numero', 'lot1_surface_carrez','lot2_numero',\n",
    "  'lot2_surface_carrez', 'lot3_numero', 'lot3_surface_carrez', 'lot4_numero', 'lot4_surface_carrez', 'lot5_numero', 'lot5_surface_carrez', 'code_nature_culture', 'nature_culture', 'code_nature_culture_speciale', 'nature_culture_speciale', 'section_prefixe', 'id_parcelle', 'type_local', 'adresse_code_voie', 'nombre_lots', 'nature_mutation'], axis='columns')\n",
    "df_clean.head()"
   ]
  },
  {
   "cell_type": "markdown",
   "id": "eccd2334",
   "metadata": {},
   "source": [
    "## vérifier si il existe des données nulles"
   ]
  },
  {
   "cell_type": "code",
   "execution_count": 7,
   "id": "7ff73062",
   "metadata": {},
   "outputs": [
    {
     "data": {
      "text/plain": [
       "id_mutation                  2972\n",
       "valeur_fonciere              2922\n",
       "code_type_local              2972\n",
       "surface_reelle_bati          1613\n",
       "nombre_pieces_principales    2197\n",
       "surface_terrain              2515\n",
       "longitude                    2945\n",
       "latitude                     2945\n",
       "dtype: int64"
      ]
     },
     "execution_count": 7,
     "metadata": {},
     "output_type": "execute_result"
    }
   ],
   "source": [
    "df_clean.agg('count')"
   ]
  },
  {
   "cell_type": "code",
   "execution_count": 8,
   "id": "52ea8057",
   "metadata": {},
   "outputs": [
    {
     "data": {
      "text/plain": [
       "id_mutation                     0\n",
       "valeur_fonciere                50\n",
       "code_type_local                 0\n",
       "surface_reelle_bati          1359\n",
       "nombre_pieces_principales     775\n",
       "surface_terrain               457\n",
       "longitude                      27\n",
       "latitude                       27\n",
       "dtype: int64"
      ]
     },
     "execution_count": 8,
     "metadata": {},
     "output_type": "execute_result"
    }
   ],
   "source": [
    "df_clean.isnull().sum()"
   ]
  },
  {
   "cell_type": "markdown",
   "id": "3b14fc41",
   "metadata": {},
   "source": [
    "Comme on peut le voir les données contiennent des valeurs nulles\n"
   ]
  },
  {
   "cell_type": "code",
   "execution_count": 9,
   "id": "5f7dd4a6",
   "metadata": {},
   "outputs": [
    {
     "data": {
      "text/plain": [
       "id_mutation                  0\n",
       "valeur_fonciere              0\n",
       "code_type_local              0\n",
       "surface_reelle_bati          0\n",
       "nombre_pieces_principales    0\n",
       "surface_terrain              0\n",
       "longitude                    0\n",
       "latitude                     0\n",
       "dtype: int64"
      ]
     },
     "execution_count": 9,
     "metadata": {},
     "output_type": "execute_result"
    }
   ],
   "source": [
    "#suppression des valeurs nulles \n",
    "df_clean_2 = df_clean.dropna()\n",
    "df_clean_2.isnull().sum()"
   ]
  },
  {
   "cell_type": "markdown",
   "id": "aa9a9272",
   "metadata": {},
   "source": [
    "la nouvelle dataframe sans valeurs null contient 1325 lignes"
   ]
  },
  {
   "cell_type": "code",
   "execution_count": 10,
   "id": "46ad1f53",
   "metadata": {},
   "outputs": [
    {
     "data": {
      "text/plain": [
       "(1325, 8)"
      ]
     },
     "execution_count": 10,
     "metadata": {},
     "output_type": "execute_result"
    }
   ],
   "source": [
    "df_clean_2.shape"
   ]
  },
  {
   "cell_type": "markdown",
   "id": "05e04ec0",
   "metadata": {},
   "source": [
    "## Supression des doublons"
   ]
  },
  {
   "cell_type": "code",
   "execution_count": 11,
   "id": "bdb3ee65",
   "metadata": {},
   "outputs": [
    {
     "data": {
      "text/html": [
       "<div>\n",
       "<style scoped>\n",
       "    .dataframe tbody tr th:only-of-type {\n",
       "        vertical-align: middle;\n",
       "    }\n",
       "\n",
       "    .dataframe tbody tr th {\n",
       "        vertical-align: top;\n",
       "    }\n",
       "\n",
       "    .dataframe thead th {\n",
       "        text-align: right;\n",
       "    }\n",
       "</style>\n",
       "<table border=\"1\" class=\"dataframe\">\n",
       "  <thead>\n",
       "    <tr style=\"text-align: right;\">\n",
       "      <th></th>\n",
       "      <th>id_mutation</th>\n",
       "      <th>valeur_fonciere</th>\n",
       "      <th>code_type_local</th>\n",
       "      <th>surface_reelle_bati</th>\n",
       "      <th>nombre_pieces_principales</th>\n",
       "      <th>surface_terrain</th>\n",
       "      <th>longitude</th>\n",
       "      <th>latitude</th>\n",
       "    </tr>\n",
       "  </thead>\n",
       "  <tbody>\n",
       "    <tr>\n",
       "      <th>0</th>\n",
       "      <td>2022-360375</td>\n",
       "      <td>260000.0</td>\n",
       "      <td>1</td>\n",
       "      <td>129.0</td>\n",
       "      <td>4.0</td>\n",
       "      <td>351.0</td>\n",
       "      <td>1.071855</td>\n",
       "      <td>49.401886</td>\n",
       "    </tr>\n",
       "    <tr>\n",
       "      <th>2</th>\n",
       "      <td>2021-1180016</td>\n",
       "      <td>160000.0</td>\n",
       "      <td>1</td>\n",
       "      <td>64.0</td>\n",
       "      <td>4.0</td>\n",
       "      <td>452.0</td>\n",
       "      <td>1.070963</td>\n",
       "      <td>49.402764</td>\n",
       "    </tr>\n",
       "    <tr>\n",
       "      <th>3</th>\n",
       "      <td>2021-1177880</td>\n",
       "      <td>174000.0</td>\n",
       "      <td>1</td>\n",
       "      <td>64.0</td>\n",
       "      <td>4.0</td>\n",
       "      <td>498.0</td>\n",
       "      <td>1.070475</td>\n",
       "      <td>49.403622</td>\n",
       "    </tr>\n",
       "    <tr>\n",
       "      <th>5</th>\n",
       "      <td>2020-1061542</td>\n",
       "      <td>200000.0</td>\n",
       "      <td>2</td>\n",
       "      <td>18.0</td>\n",
       "      <td>1.0</td>\n",
       "      <td>105.0</td>\n",
       "      <td>1.074902</td>\n",
       "      <td>49.403036</td>\n",
       "    </tr>\n",
       "    <tr>\n",
       "      <th>6</th>\n",
       "      <td>2020-1061542</td>\n",
       "      <td>200000.0</td>\n",
       "      <td>4</td>\n",
       "      <td>68.0</td>\n",
       "      <td>0.0</td>\n",
       "      <td>105.0</td>\n",
       "      <td>1.074902</td>\n",
       "      <td>49.403036</td>\n",
       "    </tr>\n",
       "    <tr>\n",
       "      <th>...</th>\n",
       "      <td>...</td>\n",
       "      <td>...</td>\n",
       "      <td>...</td>\n",
       "      <td>...</td>\n",
       "      <td>...</td>\n",
       "      <td>...</td>\n",
       "      <td>...</td>\n",
       "      <td>...</td>\n",
       "    </tr>\n",
       "    <tr>\n",
       "      <th>233</th>\n",
       "      <td>2017-544006</td>\n",
       "      <td>189300.0</td>\n",
       "      <td>1</td>\n",
       "      <td>80.0</td>\n",
       "      <td>4.0</td>\n",
       "      <td>354.0</td>\n",
       "      <td>1.071759</td>\n",
       "      <td>49.399769</td>\n",
       "    </tr>\n",
       "    <tr>\n",
       "      <th>10</th>\n",
       "      <td>2019-1114809</td>\n",
       "      <td>1.2</td>\n",
       "      <td>4</td>\n",
       "      <td>3544.0</td>\n",
       "      <td>0.0</td>\n",
       "      <td>17330.0</td>\n",
       "      <td>1.077618</td>\n",
       "      <td>49.385026</td>\n",
       "    </tr>\n",
       "    <tr>\n",
       "      <th>14</th>\n",
       "      <td>2018-1037104</td>\n",
       "      <td>1000000.0</td>\n",
       "      <td>2</td>\n",
       "      <td>87.0</td>\n",
       "      <td>3.0</td>\n",
       "      <td>3973.0</td>\n",
       "      <td>1.059789</td>\n",
       "      <td>49.390736</td>\n",
       "    </tr>\n",
       "    <tr>\n",
       "      <th>15</th>\n",
       "      <td>2018-1037104</td>\n",
       "      <td>1000000.0</td>\n",
       "      <td>4</td>\n",
       "      <td>1048.0</td>\n",
       "      <td>0.0</td>\n",
       "      <td>3973.0</td>\n",
       "      <td>1.059789</td>\n",
       "      <td>49.390736</td>\n",
       "    </tr>\n",
       "    <tr>\n",
       "      <th>17</th>\n",
       "      <td>2018-1033549</td>\n",
       "      <td>665000.0</td>\n",
       "      <td>4</td>\n",
       "      <td>600.0</td>\n",
       "      <td>0.0</td>\n",
       "      <td>2112.0</td>\n",
       "      <td>1.060781</td>\n",
       "      <td>49.386334</td>\n",
       "    </tr>\n",
       "  </tbody>\n",
       "</table>\n",
       "<p>1223 rows × 8 columns</p>\n",
       "</div>"
      ],
      "text/plain": [
       "      id_mutation  valeur_fonciere code_type_local  surface_reelle_bati  \\\n",
       "0     2022-360375         260000.0               1                129.0   \n",
       "2    2021-1180016         160000.0               1                 64.0   \n",
       "3    2021-1177880         174000.0               1                 64.0   \n",
       "5    2020-1061542         200000.0               2                 18.0   \n",
       "6    2020-1061542         200000.0               4                 68.0   \n",
       "..            ...              ...             ...                  ...   \n",
       "233   2017-544006         189300.0               1                 80.0   \n",
       "10   2019-1114809              1.2               4               3544.0   \n",
       "14   2018-1037104        1000000.0               2                 87.0   \n",
       "15   2018-1037104        1000000.0               4               1048.0   \n",
       "17   2018-1033549         665000.0               4                600.0   \n",
       "\n",
       "     nombre_pieces_principales  surface_terrain  longitude   latitude  \n",
       "0                          4.0            351.0   1.071855  49.401886  \n",
       "2                          4.0            452.0   1.070963  49.402764  \n",
       "3                          4.0            498.0   1.070475  49.403622  \n",
       "5                          1.0            105.0   1.074902  49.403036  \n",
       "6                          0.0            105.0   1.074902  49.403036  \n",
       "..                         ...              ...        ...        ...  \n",
       "233                        4.0            354.0   1.071759  49.399769  \n",
       "10                         0.0          17330.0   1.077618  49.385026  \n",
       "14                         3.0           3973.0   1.059789  49.390736  \n",
       "15                         0.0           3973.0   1.059789  49.390736  \n",
       "17                         0.0           2112.0   1.060781  49.386334  \n",
       "\n",
       "[1223 rows x 8 columns]"
      ]
     },
     "execution_count": 11,
     "metadata": {},
     "output_type": "execute_result"
    }
   ],
   "source": [
    "df_clean_3 = df_clean_2.drop_duplicates()\n",
    "df_clean_3"
   ]
  },
  {
   "cell_type": "code",
   "execution_count": 12,
   "id": "64d53e27",
   "metadata": {},
   "outputs": [
    {
     "data": {
      "text/plain": [
       "(1223, 8)"
      ]
     },
     "execution_count": 12,
     "metadata": {},
     "output_type": "execute_result"
    }
   ],
   "source": [
    "df_clean_3.shape"
   ]
  },
  {
   "cell_type": "code",
   "execution_count": 13,
   "id": "87fd123d",
   "metadata": {},
   "outputs": [
    {
     "data": {
      "text/plain": [
       "id_mutation                   object\n",
       "valeur_fonciere              float64\n",
       "code_type_local               object\n",
       "surface_reelle_bati          float64\n",
       "nombre_pieces_principales    float64\n",
       "surface_terrain              float64\n",
       "longitude                    float64\n",
       "latitude                     float64\n",
       "dtype: object"
      ]
     },
     "execution_count": 13,
     "metadata": {},
     "output_type": "execute_result"
    }
   ],
   "source": [
    "df_clean_3.dtypes"
   ]
  },
  {
   "cell_type": "markdown",
   "id": "ccef5f94",
   "metadata": {},
   "source": [
    "les features code_type_local & id_mutation sont des objets il faut donc les convertir en float pour avoir le même type de donnnées "
   ]
  },
  {
   "cell_type": "markdown",
   "id": "5ab4468e",
   "metadata": {},
   "source": [
    "## Conversion de toute les données en float "
   ]
  },
  {
   "cell_type": "markdown",
   "id": "f6ece428",
   "metadata": {},
   "source": [
    "d'après les données fournis le id_mutation et une chaine séparée par un \"-\" il faut donc spliter ces valeurs et prendre que l'année "
   ]
  },
  {
   "cell_type": "markdown",
   "id": "66aea448",
   "metadata": {},
   "source": [
    "### Transformation"
   ]
  },
  {
   "cell_type": "code",
   "execution_count": 14,
   "id": "d51bb34b",
   "metadata": {},
   "outputs": [],
   "source": [
    "#convert_date_to_num() convertit par exemple 2354-012 en 2355.05\n",
    "def convert_date_to_num(x): \n",
    "    tokens = x.split('-')\n",
    "    if len(tokens) == 2:\n",
    "        return (float(tokens[0]))\n",
    "    try:\n",
    "        return float(x)\n",
    "    except:\n",
    "        return None"
   ]
  },
  {
   "cell_type": "code",
   "execution_count": 15,
   "id": "059d1128",
   "metadata": {},
   "outputs": [
    {
     "data": {
      "text/plain": [
       "2354.0"
      ]
     },
     "execution_count": 15,
     "metadata": {},
     "output_type": "execute_result"
    }
   ],
   "source": [
    "#testing \n",
    "convert_date_to_num('2354-012')"
   ]
  },
  {
   "cell_type": "code",
   "execution_count": 16,
   "id": "fc8116c1",
   "metadata": {},
   "outputs": [],
   "source": [
    "df_cleaned = df_clean_3.copy()"
   ]
  },
  {
   "cell_type": "code",
   "execution_count": 17,
   "id": "9c079401",
   "metadata": {},
   "outputs": [],
   "source": [
    "df_cleaned['id_mutation'] = df_cleaned['id_mutation'].apply(convert_date_to_num)"
   ]
  },
  {
   "cell_type": "code",
   "execution_count": 18,
   "id": "c10b420d",
   "metadata": {},
   "outputs": [
    {
     "data": {
      "text/html": [
       "<div>\n",
       "<style scoped>\n",
       "    .dataframe tbody tr th:only-of-type {\n",
       "        vertical-align: middle;\n",
       "    }\n",
       "\n",
       "    .dataframe tbody tr th {\n",
       "        vertical-align: top;\n",
       "    }\n",
       "\n",
       "    .dataframe thead th {\n",
       "        text-align: right;\n",
       "    }\n",
       "</style>\n",
       "<table border=\"1\" class=\"dataframe\">\n",
       "  <thead>\n",
       "    <tr style=\"text-align: right;\">\n",
       "      <th></th>\n",
       "      <th>id_mutation</th>\n",
       "      <th>valeur_fonciere</th>\n",
       "      <th>code_type_local</th>\n",
       "      <th>surface_reelle_bati</th>\n",
       "      <th>nombre_pieces_principales</th>\n",
       "      <th>surface_terrain</th>\n",
       "      <th>longitude</th>\n",
       "      <th>latitude</th>\n",
       "    </tr>\n",
       "  </thead>\n",
       "  <tbody>\n",
       "    <tr>\n",
       "      <th>0</th>\n",
       "      <td>2022.0</td>\n",
       "      <td>260000.0</td>\n",
       "      <td>1</td>\n",
       "      <td>129.0</td>\n",
       "      <td>4.0</td>\n",
       "      <td>351.0</td>\n",
       "      <td>1.071855</td>\n",
       "      <td>49.401886</td>\n",
       "    </tr>\n",
       "    <tr>\n",
       "      <th>2</th>\n",
       "      <td>2021.0</td>\n",
       "      <td>160000.0</td>\n",
       "      <td>1</td>\n",
       "      <td>64.0</td>\n",
       "      <td>4.0</td>\n",
       "      <td>452.0</td>\n",
       "      <td>1.070963</td>\n",
       "      <td>49.402764</td>\n",
       "    </tr>\n",
       "    <tr>\n",
       "      <th>3</th>\n",
       "      <td>2021.0</td>\n",
       "      <td>174000.0</td>\n",
       "      <td>1</td>\n",
       "      <td>64.0</td>\n",
       "      <td>4.0</td>\n",
       "      <td>498.0</td>\n",
       "      <td>1.070475</td>\n",
       "      <td>49.403622</td>\n",
       "    </tr>\n",
       "    <tr>\n",
       "      <th>5</th>\n",
       "      <td>2020.0</td>\n",
       "      <td>200000.0</td>\n",
       "      <td>2</td>\n",
       "      <td>18.0</td>\n",
       "      <td>1.0</td>\n",
       "      <td>105.0</td>\n",
       "      <td>1.074902</td>\n",
       "      <td>49.403036</td>\n",
       "    </tr>\n",
       "    <tr>\n",
       "      <th>6</th>\n",
       "      <td>2020.0</td>\n",
       "      <td>200000.0</td>\n",
       "      <td>4</td>\n",
       "      <td>68.0</td>\n",
       "      <td>0.0</td>\n",
       "      <td>105.0</td>\n",
       "      <td>1.074902</td>\n",
       "      <td>49.403036</td>\n",
       "    </tr>\n",
       "  </tbody>\n",
       "</table>\n",
       "</div>"
      ],
      "text/plain": [
       "   id_mutation  valeur_fonciere code_type_local  surface_reelle_bati  \\\n",
       "0       2022.0         260000.0               1                129.0   \n",
       "2       2021.0         160000.0               1                 64.0   \n",
       "3       2021.0         174000.0               1                 64.0   \n",
       "5       2020.0         200000.0               2                 18.0   \n",
       "6       2020.0         200000.0               4                 68.0   \n",
       "\n",
       "   nombre_pieces_principales  surface_terrain  longitude   latitude  \n",
       "0                        4.0            351.0   1.071855  49.401886  \n",
       "2                        4.0            452.0   1.070963  49.402764  \n",
       "3                        4.0            498.0   1.070475  49.403622  \n",
       "5                        1.0            105.0   1.074902  49.403036  \n",
       "6                        0.0            105.0   1.074902  49.403036  "
      ]
     },
     "execution_count": 18,
     "metadata": {},
     "output_type": "execute_result"
    }
   ],
   "source": [
    "df_cleaned.head()"
   ]
  },
  {
   "cell_type": "code",
   "execution_count": 19,
   "id": "937dc09d",
   "metadata": {},
   "outputs": [
    {
     "data": {
      "text/plain": [
       "id_mutation                  float64\n",
       "valeur_fonciere              float64\n",
       "code_type_local               object\n",
       "surface_reelle_bati          float64\n",
       "nombre_pieces_principales    float64\n",
       "surface_terrain              float64\n",
       "longitude                    float64\n",
       "latitude                     float64\n",
       "dtype: object"
      ]
     },
     "execution_count": 19,
     "metadata": {},
     "output_type": "execute_result"
    }
   ],
   "source": [
    "df_cleaned.dtypes"
   ]
  },
  {
   "cell_type": "code",
   "execution_count": 20,
   "id": "018562a6",
   "metadata": {},
   "outputs": [],
   "source": [
    "#convertir tout les données en float \n",
    "df_cleaned = df_cleaned.astype(float)"
   ]
  },
  {
   "cell_type": "code",
   "execution_count": 21,
   "id": "f486fb5a",
   "metadata": {},
   "outputs": [
    {
     "data": {
      "text/plain": [
       "id_mutation                  float64\n",
       "valeur_fonciere              float64\n",
       "code_type_local              float64\n",
       "surface_reelle_bati          float64\n",
       "nombre_pieces_principales    float64\n",
       "surface_terrain              float64\n",
       "longitude                    float64\n",
       "latitude                     float64\n",
       "dtype: object"
      ]
     },
     "execution_count": 21,
     "metadata": {},
     "output_type": "execute_result"
    }
   ],
   "source": [
    "df_cleaned.dtypes"
   ]
  },
  {
   "cell_type": "markdown",
   "id": "726b0343",
   "metadata": {},
   "source": [
    "## Corrélation entre les features"
   ]
  },
  {
   "cell_type": "code",
   "execution_count": 22,
   "id": "09570dd0",
   "metadata": {},
   "outputs": [
    {
     "data": {
      "text/plain": [
       "<AxesSubplot:>"
      ]
     },
     "execution_count": 22,
     "metadata": {},
     "output_type": "execute_result"
    },
    {
     "data": {
      "image/png": "[encoded data removed]",
      "text/plain": [
       "<Figure size 1440x720 with 2 Axes>"
      ]
     },
     "metadata": {},
     "output_type": "display_data"
    }
   ],
   "source": [
    "cormat = df_cleaned.corr()\n",
    "sns.heatmap(cormat)"
   ]
  },
  {
   "cell_type": "markdown",
   "id": "768534f2",
   "metadata": {},
   "source": [
    " ## Réduction des données "
   ]
  },
  {
   "cell_type": "markdown",
   "id": "a8c4edf4",
   "metadata": {},
   "source": [
    "#### Puisqu'on s'interesse à l'estimation d'une maison ou d'un appartement, pour cela on va garder que les code_type_local de la valeur {1.0, 2.0"
   ]
  },
  {
   "cell_type": "code",
   "execution_count": 23,
   "id": "3451446d",
   "metadata": {},
   "outputs": [
    {
     "data": {
      "text/plain": [
       "code_type_local\n",
       "1.0    1061\n",
       "2.0      80\n",
       "4.0      82\n",
       "Name: code_type_local, dtype: int64"
      ]
     },
     "execution_count": 23,
     "metadata": {},
     "output_type": "execute_result"
    }
   ],
   "source": [
    "df_cleaned.groupby('code_type_local')['code_type_local'].agg('count')"
   ]
  },
  {
   "cell_type": "code",
   "execution_count": 24,
   "id": "d6f9c3a2",
   "metadata": {},
   "outputs": [],
   "source": [
    "normal_rows = df_cleaned.loc[df_cleaned[\"code_type_local\"] == 4.0]"
   ]
  },
  {
   "cell_type": "code",
   "execution_count": 25,
   "id": "9da4a5c1",
   "metadata": {},
   "outputs": [
    {
     "data": {
      "text/html": [
       "<div>\n",
       "<style scoped>\n",
       "    .dataframe tbody tr th:only-of-type {\n",
       "        vertical-align: middle;\n",
       "    }\n",
       "\n",
       "    .dataframe tbody tr th {\n",
       "        vertical-align: top;\n",
       "    }\n",
       "\n",
       "    .dataframe thead th {\n",
       "        text-align: right;\n",
       "    }\n",
       "</style>\n",
       "<table border=\"1\" class=\"dataframe\">\n",
       "  <thead>\n",
       "    <tr style=\"text-align: right;\">\n",
       "      <th></th>\n",
       "      <th>id_mutation</th>\n",
       "      <th>valeur_fonciere</th>\n",
       "      <th>code_type_local</th>\n",
       "      <th>surface_reelle_bati</th>\n",
       "      <th>nombre_pieces_principales</th>\n",
       "      <th>surface_terrain</th>\n",
       "      <th>longitude</th>\n",
       "      <th>latitude</th>\n",
       "    </tr>\n",
       "  </thead>\n",
       "  <tbody>\n",
       "    <tr>\n",
       "      <th>6</th>\n",
       "      <td>2020.0</td>\n",
       "      <td>200000.0</td>\n",
       "      <td>4.0</td>\n",
       "      <td>68.0</td>\n",
       "      <td>0.0</td>\n",
       "      <td>105.0</td>\n",
       "      <td>1.074902</td>\n",
       "      <td>49.403036</td>\n",
       "    </tr>\n",
       "    <tr>\n",
       "      <th>13</th>\n",
       "      <td>2018.0</td>\n",
       "      <td>820000.0</td>\n",
       "      <td>4.0</td>\n",
       "      <td>797.0</td>\n",
       "      <td>0.0</td>\n",
       "      <td>2847.0</td>\n",
       "      <td>1.067422</td>\n",
       "      <td>49.403732</td>\n",
       "    </tr>\n",
       "    <tr>\n",
       "      <th>23</th>\n",
       "      <td>2017.0</td>\n",
       "      <td>700000.0</td>\n",
       "      <td>4.0</td>\n",
       "      <td>797.0</td>\n",
       "      <td>0.0</td>\n",
       "      <td>2847.0</td>\n",
       "      <td>1.067422</td>\n",
       "      <td>49.403732</td>\n",
       "    </tr>\n",
       "    <tr>\n",
       "      <th>67</th>\n",
       "      <td>2020.0</td>\n",
       "      <td>200000.0</td>\n",
       "      <td>4.0</td>\n",
       "      <td>497.0</td>\n",
       "      <td>0.0</td>\n",
       "      <td>491.0</td>\n",
       "      <td>1.074476</td>\n",
       "      <td>49.398327</td>\n",
       "    </tr>\n",
       "    <tr>\n",
       "      <th>76</th>\n",
       "      <td>2020.0</td>\n",
       "      <td>280000.0</td>\n",
       "      <td>4.0</td>\n",
       "      <td>125.0</td>\n",
       "      <td>0.0</td>\n",
       "      <td>594.0</td>\n",
       "      <td>1.075473</td>\n",
       "      <td>49.402864</td>\n",
       "    </tr>\n",
       "  </tbody>\n",
       "</table>\n",
       "</div>"
      ],
      "text/plain": [
       "    id_mutation  valeur_fonciere  code_type_local  surface_reelle_bati  \\\n",
       "6        2020.0         200000.0              4.0                 68.0   \n",
       "13       2018.0         820000.0              4.0                797.0   \n",
       "23       2017.0         700000.0              4.0                797.0   \n",
       "67       2020.0         200000.0              4.0                497.0   \n",
       "76       2020.0         280000.0              4.0                125.0   \n",
       "\n",
       "    nombre_pieces_principales  surface_terrain  longitude   latitude  \n",
       "6                         0.0            105.0   1.074902  49.403036  \n",
       "13                        0.0           2847.0   1.067422  49.403732  \n",
       "23                        0.0           2847.0   1.067422  49.403732  \n",
       "67                        0.0            491.0   1.074476  49.398327  \n",
       "76                        0.0            594.0   1.075473  49.402864  "
      ]
     },
     "execution_count": 25,
     "metadata": {},
     "output_type": "execute_result"
    }
   ],
   "source": [
    "normal_rows.head()"
   ]
  },
  {
   "cell_type": "code",
   "execution_count": 26,
   "id": "72879e68",
   "metadata": {},
   "outputs": [],
   "source": [
    "# la suppression des données avec code_type_local=4 \n",
    "df_cleaned = df_cleaned.drop(normal_rows.index)"
   ]
  },
  {
   "cell_type": "code",
   "execution_count": 27,
   "id": "1ff19b2f",
   "metadata": {},
   "outputs": [
    {
     "data": {
      "text/plain": [
       "(612, 8)"
      ]
     },
     "execution_count": 27,
     "metadata": {},
     "output_type": "execute_result"
    }
   ],
   "source": [
    "df_cleaned.shape"
   ]
  },
  {
   "cell_type": "code",
   "execution_count": 28,
   "id": "ba588807",
   "metadata": {},
   "outputs": [
    {
     "data": {
      "text/plain": [
       "code_type_local\n",
       "1.0    573\n",
       "2.0     39\n",
       "Name: code_type_local, dtype: int64"
      ]
     },
     "execution_count": 28,
     "metadata": {},
     "output_type": "execute_result"
    }
   ],
   "source": [
    "#vérification\n",
    "df_cleaned.groupby('code_type_local')['code_type_local'].agg('count')"
   ]
  },
  {
   "cell_type": "code",
   "execution_count": 29,
   "id": "7d079d6c",
   "metadata": {},
   "outputs": [],
   "source": [
    "df_cleaned.to_excel('./data_cleaned.xlsx', index=False)"
   ]
  },
  {
   "cell_type": "markdown",
   "id": "c46115be",
   "metadata": {},
   "source": [
    "## Eliminer les outliers \n"
   ]
  },
  {
   "cell_type": "code",
   "execution_count": 30,
   "id": "29f6a6a4",
   "metadata": {},
   "outputs": [],
   "source": [
    "#mean = df_cleaned[\"valeur_fonciere\"].mean()\n",
    "#threshold = mean * 5\n",
    "#abnormal_rows = df_cleaned.loc[df_clean_3[\"valeur_fonciere\"] > threshold]"
   ]
  },
  {
   "cell_type": "code",
   "execution_count": 31,
   "id": "46ce7e50",
   "metadata": {},
   "outputs": [],
   "source": [
    "#abnormal_rows.head()"
   ]
  },
  {
   "cell_type": "code",
   "execution_count": 32,
   "id": "0d1070cb",
   "metadata": {},
   "outputs": [],
   "source": [
    "#abnormal_rows.shape"
   ]
  },
  {
   "cell_type": "code",
   "execution_count": 33,
   "id": "6506f07d",
   "metadata": {},
   "outputs": [],
   "source": [
    "#df_cleaned_2 = df_cleaned.drop(abnormal_rows.index)"
   ]
  },
  {
   "cell_type": "code",
   "execution_count": 34,
   "id": "1e4f6210",
   "metadata": {},
   "outputs": [],
   "source": [
    "#df_cleaned_2.shape"
   ]
  },
  {
   "cell_type": "markdown",
   "id": "d64671ed",
   "metadata": {},
   "source": [
    "# Division des données "
   ]
  },
  {
   "cell_type": "code",
   "execution_count": 35,
   "id": "addb0295",
   "metadata": {},
   "outputs": [],
   "source": [
    "# y pour le valeur à prédire et X les données d'apprentissage \n",
    "y = df_cleaned['valeur_fonciere'] #la valeur à prédire\n",
    "X = df_cleaned[['id_mutation', 'code_type_local', 'nombre_pieces_principales'\n",
    "                 ,'surface_terrain', 'surface_reelle_bati']]"
   ]
  },
  {
   "cell_type": "code",
   "execution_count": 36,
   "id": "efb56c6b",
   "metadata": {},
   "outputs": [
    {
     "name": "stdout",
     "output_type": "stream",
     "text": [
      "(612,)\n",
      "(612, 5)\n"
     ]
    }
   ],
   "source": [
    "print(y.shape) \n",
    "print(X.shape)"
   ]
  },
  {
   "cell_type": "code",
   "execution_count": 37,
   "id": "af5bea0c",
   "metadata": {},
   "outputs": [
    {
     "data": {
      "text/html": [
       "<div>\n",
       "<style scoped>\n",
       "    .dataframe tbody tr th:only-of-type {\n",
       "        vertical-align: middle;\n",
       "    }\n",
       "\n",
       "    .dataframe tbody tr th {\n",
       "        vertical-align: top;\n",
       "    }\n",
       "\n",
       "    .dataframe thead th {\n",
       "        text-align: right;\n",
       "    }\n",
       "</style>\n",
       "<table border=\"1\" class=\"dataframe\">\n",
       "  <thead>\n",
       "    <tr style=\"text-align: right;\">\n",
       "      <th></th>\n",
       "      <th>id_mutation</th>\n",
       "      <th>code_type_local</th>\n",
       "      <th>nombre_pieces_principales</th>\n",
       "      <th>surface_terrain</th>\n",
       "      <th>surface_reelle_bati</th>\n",
       "    </tr>\n",
       "  </thead>\n",
       "  <tbody>\n",
       "    <tr>\n",
       "      <th>16</th>\n",
       "      <td>2018.0</td>\n",
       "      <td>2.0</td>\n",
       "      <td>1.0</td>\n",
       "      <td>767.0</td>\n",
       "      <td>30.0</td>\n",
       "    </tr>\n",
       "    <tr>\n",
       "      <th>21</th>\n",
       "      <td>2018.0</td>\n",
       "      <td>1.0</td>\n",
       "      <td>4.0</td>\n",
       "      <td>450.0</td>\n",
       "      <td>64.0</td>\n",
       "    </tr>\n",
       "    <tr>\n",
       "      <th>26</th>\n",
       "      <td>2021.0</td>\n",
       "      <td>1.0</td>\n",
       "      <td>4.0</td>\n",
       "      <td>475.0</td>\n",
       "      <td>80.0</td>\n",
       "    </tr>\n",
       "    <tr>\n",
       "      <th>33</th>\n",
       "      <td>2021.0</td>\n",
       "      <td>1.0</td>\n",
       "      <td>2.0</td>\n",
       "      <td>312.0</td>\n",
       "      <td>57.0</td>\n",
       "    </tr>\n",
       "    <tr>\n",
       "      <th>38</th>\n",
       "      <td>2021.0</td>\n",
       "      <td>1.0</td>\n",
       "      <td>4.0</td>\n",
       "      <td>346.0</td>\n",
       "      <td>78.0</td>\n",
       "    </tr>\n",
       "  </tbody>\n",
       "</table>\n",
       "</div>"
      ],
      "text/plain": [
       "    id_mutation  code_type_local  nombre_pieces_principales  surface_terrain  \\\n",
       "16       2018.0              2.0                        1.0            767.0   \n",
       "21       2018.0              1.0                        4.0            450.0   \n",
       "26       2021.0              1.0                        4.0            475.0   \n",
       "33       2021.0              1.0                        2.0            312.0   \n",
       "38       2021.0              1.0                        4.0            346.0   \n",
       "\n",
       "    surface_reelle_bati  \n",
       "16                 30.0  \n",
       "21                 64.0  \n",
       "26                 80.0  \n",
       "33                 57.0  \n",
       "38                 78.0  "
      ]
     },
     "execution_count": 37,
     "metadata": {},
     "output_type": "execute_result"
    }
   ],
   "source": [
    "X.head()"
   ]
  },
  {
   "cell_type": "markdown",
   "id": "c7f53294",
   "metadata": {},
   "source": [
    "# Entrainer le modèle de regression linéaire"
   ]
  },
  {
   "cell_type": "code",
   "execution_count": 38,
   "id": "50f6cea8",
   "metadata": {},
   "outputs": [],
   "source": [
    "import sklearn\n",
    "from sklearn.model_selection import train_test_split\n",
    "from sklearn.linear_model import LinearRegression\n",
    "from sklearn.metrics import confusion_matrix\n",
    "from sklearn.metrics import classification_report"
   ]
  },
  {
   "cell_type": "code",
   "execution_count": 39,
   "id": "fc4d2ac0",
   "metadata": {},
   "outputs": [],
   "source": [
    "X_train, X_test, y_train, y_test = train_test_split(X, y,\n",
    "test_size =0.3, random_state=7)"
   ]
  },
  {
   "cell_type": "code",
   "execution_count": 40,
   "id": "3f4ac288",
   "metadata": {},
   "outputs": [],
   "source": [
    "model_glob = LinearRegression()\n",
    "model_glob.fit(X_train, y_train)\n",
    "y_predict = model_glob.predict(X_test)"
   ]
  },
  {
   "cell_type": "markdown",
   "id": "b8a75838",
   "metadata": {},
   "source": [
    "# Evaluation du modèle"
   ]
  },
  {
   "cell_type": "code",
   "execution_count": 41,
   "id": "b90553be",
   "metadata": {},
   "outputs": [
    {
     "data": {
      "text/plain": [
       "-0.7632677452407235"
      ]
     },
     "execution_count": 41,
     "metadata": {},
     "output_type": "execute_result"
    }
   ],
   "source": [
    "# importation du module r2_score\n",
    "from sklearn.metrics import r2_score\n",
    "from sklearn.metrics import mean_squared_error\n",
    "# prediction\n",
    "score=r2_score(y_test,y_predict)\n",
    "score"
   ]
  },
  {
   "cell_type": "markdown",
   "id": "393bea7a",
   "metadata": {},
   "source": [
    "#### 76.32 %  en taux de prédiction  "
   ]
  },
  {
   "cell_type": "markdown",
   "id": "7d48c1d8",
   "metadata": {},
   "source": [
    "# Coefficients du modèle et interception de la régression linéaire"
   ]
  },
  {
   "cell_type": "code",
   "execution_count": 44,
   "id": "497c369f",
   "metadata": {},
   "outputs": [
    {
     "data": {
      "text/plain": [
       "array([1.12891240e+04, 2.45339972e+05, 3.04452539e+03, 1.03940627e+02,\n",
       "       9.37766798e+02])"
      ]
     },
     "execution_count": 44,
     "metadata": {},
     "output_type": "execute_result"
    }
   ],
   "source": [
    "#a fournir au developpeur : les coefficients du modèle \n",
    "model_glob.coef_\n"
   ]
  },
  {
   "cell_type": "code",
   "execution_count": 45,
   "id": "99113e93",
   "metadata": {},
   "outputs": [
    {
     "data": {
      "text/plain": [
       "-23005984.361160718"
      ]
     },
     "execution_count": 45,
     "metadata": {},
     "output_type": "execute_result"
    }
   ],
   "source": [
    "#A fournir eu developpeur : le biais \n",
    "model_glob.intercept_"
   ]
  },
  {
   "cell_type": "code",
   "execution_count": null,
   "id": "a8b9897f",
   "metadata": {},
   "outputs": [],
   "source": []
  }
 ],
 "metadata": {
  "kernelspec": {
   "display_name": "Python 3 (ipykernel)",
   "language": "python",
   "name": "python3"
  },
  "language_info": {
   "codemirror_mode": {
    "name": "ipython",
    "version": 3
   },
   "file_extension": ".py",
   "mimetype": "text/x-python",
   "name": "python",
   "nbconvert_exporter": "python",
   "pygments_lexer": "ipython3",
   "version": "3.10.2"
  }
 },
 "nbformat": 4,
 "nbformat_minor": 5
}
